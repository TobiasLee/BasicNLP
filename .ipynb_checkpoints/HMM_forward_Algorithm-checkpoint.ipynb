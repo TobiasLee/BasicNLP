{
 "cells": [
  {
   "cell_type": "code",
   "execution_count": 1,
   "metadata": {
    "collapsed": true
   },
   "outputs": [],
   "source": [
    "# Part of HMM Model"
   ]
  },
  {
   "cell_type": "code",
   "execution_count": 4,
   "metadata": {
    "collapsed": true
   },
   "outputs": [],
   "source": [
    "import numpy as np # for matrix"
   ]
  },
  {
   "cell_type": "code",
   "execution_count": 5,
   "metadata": {
    "collapsed": true
   },
   "outputs": [],
   "source": [
    "# A: state transfer matrix  NxN\n",
    "# B:  confusion matrix  MxN\n",
    "# M:  number of symbols\n",
    "# N : numebr of states\n",
    "# pi: initial vector\n",
    "# O: oberservation sequence 0 1 0 2 like"
   ]
  },
  {
   "cell_type": "code",
   "execution_count": 16,
   "metadata": {
    "collapsed": true
   },
   "outputs": [],
   "source": [
    "def forward(A, B, pi, T, O):\n",
    "    N = A.shape[0]\n",
    "    alpha = np.zeros([N, T]) # store result\n",
    "    \n",
    "    # calculate initial probability t = 1\n",
    "    alpha[:, 0] = pi * B[:,O[0]]\n",
    "    \n",
    "    # recursive calculate t = 2, .. , T probability\n",
    "    for t in range(1, T):\n",
    "        for j in range(N):\n",
    "            # np.array * np.array element wise\n",
    "            alpha[j ,t] = B[j, O[t]] * np.sum(A[:, j] * alpha[:, t-1])\n",
    "    sum = np.sum(alpha[:, T-1])\n",
    "    return sum, alpha\n",
    "   "
   ]
  },
  {
   "cell_type": "code",
   "execution_count": 17,
   "metadata": {},
   "outputs": [
    {
     "name": "stdout",
     "output_type": "stream",
     "text": [
      "(3,)\n",
      "(3,)\n"
     ]
    },
    {
     "data": {
      "text/plain": [
       "(0.130218, array([[ 0.1     ,  0.077   ,  0.04187 ],\n",
       "        [ 0.16    ,  0.1104  ,  0.035512],\n",
       "        [ 0.28    ,  0.0606  ,  0.052836]]))"
      ]
     },
     "execution_count": 17,
     "metadata": {},
     "output_type": "execute_result"
    }
   ],
   "source": [
    "# example 1 \n",
    "A = np.array([\n",
    "    [0.5, 0.2 ,0.3],\n",
    "    [0.3, 0.5, 0.2],\n",
    "    [0.2, 0.3, 0.5]\n",
    "])\n",
    "B = np.array([\n",
    "    [0.5, 0.5],\n",
    "    [0.4, 0.6],\n",
    "    [0.7, 0.3]\n",
    "]) \n",
    "pi = np.array([0.2, 0.4, 0.4])\n",
    "O = [0, 1 , 0]\n",
    "forward(A, B, pi,3,O)"
   ]
  },
  {
   "cell_type": "code",
   "execution_count": 31,
   "metadata": {},
   "outputs": [
    {
     "data": {
      "text/plain": [
       "(0.026901406250000003, array([[ 0.378     ,  0.03031875,  0.00156859],\n",
       "        [ 0.0425    ,  0.03770312,  0.00656563],\n",
       "        [ 0.01      ,  0.02714688,  0.01876719]]))"
      ]
     },
     "execution_count": 31,
     "metadata": {},
     "output_type": "execute_result"
    }
   ],
   "source": [
    "# example 2\n",
    "A = np.array([\n",
    "    [0.5, 0.375 ,0.125],\n",
    "    [0.25, 0.125, 0.625],\n",
    "    [0.25, 0.375, 0.375]\n",
    "])\n",
    "B = np.array([\n",
    "    [0.6, 0.2 ,0.15, 0.05],\n",
    "    [0.25, 0.25, 0.25,0.25],\n",
    "    [0.05, 0.1, 0.35, 0.5]\n",
    "])\n",
    "pi = np.array([0.63, 0.17, 0.2])\n",
    "O = [0, 2,3]\n",
    "T= len(O)\n",
    "forward(A, B, pi, T, O)"
   ]
  },
  {
   "cell_type": "code",
   "execution_count": 51,
   "metadata": {},
   "outputs": [],
   "source": [
    "def viterbi(A, B, pi, O):\n",
    "    T = len(O) # length of the observation sequence\n",
    "    N  = A.shape[0]\n",
    "    # store result\n",
    "    path = np.zeros([N, T])\n",
    "    delta = np.zeros([N, T])\n",
    "    # initialization\n",
    "    delta[:, 0] = pi * B[:,O[0]]\n",
    "    \n",
    "    for t in range(1, T):\n",
    "        for i in range(N):\n",
    "            delta[i, t] = np.max(delta[:, t-1] * A[:, i]) * B[i, O[t]]\n",
    "            path[i, t] = np.argmax(delta[:, t-1] * A[:, i])\n",
    "    best_path = np.zeros(T)\n",
    "    best_path[T-1] = np.argmax(delta[:, T-1])\n",
    "    for i in range(T-2, -1, -1):\n",
    "\n",
    "        best_path[i] = path[(int)(best_path[i+1]), i+1]\n",
    "    return delta, best_path "
   ]
  },
  {
   "cell_type": "code",
   "execution_count": 52,
   "metadata": {},
   "outputs": [
    {
     "name": "stdout",
     "output_type": "stream",
     "text": [
      "0.056\n",
      "0.084\n",
      "0.14\n",
      "0.01512\n",
      "0.0252\n",
      "0.021\n"
     ]
    },
    {
     "data": {
      "text/plain": [
       "(array([[ 0.1    ,  0.028  ,  0.00756],\n",
       "        [ 0.16   ,  0.0504 ,  0.01008],\n",
       "        [ 0.28   ,  0.042  ,  0.0147 ]]), array([ 2.,  2.,  2.]))"
      ]
     },
     "execution_count": 52,
     "metadata": {},
     "output_type": "execute_result"
    }
   ],
   "source": [
    "viterbi(A, B, pi, O)"
   ]
  },
  {
   "cell_type": "code",
   "execution_count": null,
   "metadata": {
    "collapsed": true
   },
   "outputs": [],
   "source": []
  }
 ],
 "metadata": {
  "kernelspec": {
   "display_name": "Python 3",
   "language": "python",
   "name": "python3"
  },
  "language_info": {
   "codemirror_mode": {
    "name": "ipython",
    "version": 3
   },
   "file_extension": ".py",
   "mimetype": "text/x-python",
   "name": "python",
   "nbconvert_exporter": "python",
   "pygments_lexer": "ipython3",
   "version": "3.5.2"
  }
 },
 "nbformat": 4,
 "nbformat_minor": 2
}
